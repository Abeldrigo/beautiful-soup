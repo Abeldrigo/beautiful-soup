{
 "cells": [
  {
   "cell_type": "markdown",
   "id": "4f238a5e",
   "metadata": {},
   "source": [
    "# [Beautiful Soup Documentation](https://www.crummy.com/software/BeautifulSoup/bs4/doc/)\n",
    "## Quick Start"
   ]
  },
  {
   "cell_type": "markdown",
   "id": "4b3ccd46",
   "metadata": {},
   "source": [
    "Here’s an HTML document I’ll be using as an example throughout this document. It’s part of a story from Alice in Wonderland:"
   ]
  },
  {
   "cell_type": "code",
   "execution_count": 1,
   "id": "b7d474c8",
   "metadata": {},
   "outputs": [],
   "source": [
    "html_doc = \"\"\"<html><head><title>The Dormouse's story</title></head>\n",
    "<body>\n",
    "<p class=\"title\"><b>The Dormouse's story</b></p>\n",
    "\n",
    "<p class=\"story\">Once upon a time there were three little sisters; and their names were\n",
    "<a href=\"http://example.com/elsie\" class=\"sister\" id=\"link1\">Elsie</a>,\n",
    "<a href=\"http://example.com/lacie\" class=\"sister\" id=\"link2\">Lacie</a> and\n",
    "<a href=\"http://example.com/tillie\" class=\"sister\" id=\"link3\">Tillie</a>;\n",
    "and they lived at the bottom of a well.</p>\n",
    "\n",
    "<p class=\"story\">...</p>\n",
    "\"\"\""
   ]
  },
  {
   "cell_type": "markdown",
   "id": "f175d01f",
   "metadata": {},
   "source": [
    "Running the “three sisters” document through Beautiful Soup gives us a `BeautifulSoup` object, which represents the document as a nested data structure:"
   ]
  },
  {
   "cell_type": "code",
   "execution_count": 2,
   "id": "513f4920",
   "metadata": {},
   "outputs": [
    {
     "name": "stdout",
     "output_type": "stream",
     "text": [
      "<html>\n",
      " <head>\n",
      "  <title>\n",
      "   The Dormouse's story\n",
      "  </title>\n",
      " </head>\n",
      " <body>\n",
      "  <p class=\"title\">\n",
      "   <b>\n",
      "    The Dormouse's story\n",
      "   </b>\n",
      "  </p>\n",
      "  <p class=\"story\">\n",
      "   Once upon a time there were three little sisters; and their names were\n",
      "   <a class=\"sister\" href=\"http://example.com/elsie\" id=\"link1\">\n",
      "    Elsie\n",
      "   </a>\n",
      "   ,\n",
      "   <a class=\"sister\" href=\"http://example.com/lacie\" id=\"link2\">\n",
      "    Lacie\n",
      "   </a>\n",
      "   and\n",
      "   <a class=\"sister\" href=\"http://example.com/tillie\" id=\"link3\">\n",
      "    Tillie\n",
      "   </a>\n",
      "   ;\n",
      "and they lived at the bottom of a well.\n",
      "  </p>\n",
      "  <p class=\"story\">\n",
      "   ...\n",
      "  </p>\n",
      " </body>\n",
      "</html>\n"
     ]
    }
   ],
   "source": [
    "from bs4 import BeautifulSoup\n",
    "\n",
    "soup = BeautifulSoup(html_doc, 'html.parser')\n",
    "print(soup.prettify())"
   ]
  },
  {
   "cell_type": "markdown",
   "id": "16e568c5",
   "metadata": {},
   "source": [
    "Here are some simple ways to navigate that data structure:"
   ]
  },
  {
   "cell_type": "code",
   "execution_count": 3,
   "id": "ec1188e9",
   "metadata": {},
   "outputs": [
    {
     "name": "stdout",
     "output_type": "stream",
     "text": [
      "<title>The Dormouse's story</title>\n"
     ]
    }
   ],
   "source": [
    "print(soup.title)"
   ]
  },
  {
   "cell_type": "code",
   "execution_count": 4,
   "id": "759bd6c5",
   "metadata": {},
   "outputs": [
    {
     "name": "stdout",
     "output_type": "stream",
     "text": [
      "title\n"
     ]
    }
   ],
   "source": [
    "print(soup.title.name)"
   ]
  },
  {
   "cell_type": "code",
   "execution_count": 5,
   "id": "ff76a803",
   "metadata": {},
   "outputs": [
    {
     "name": "stdout",
     "output_type": "stream",
     "text": [
      "The Dormouse's story\n"
     ]
    }
   ],
   "source": [
    "print(soup.title.string)"
   ]
  },
  {
   "cell_type": "code",
   "execution_count": 6,
   "id": "274996ff",
   "metadata": {},
   "outputs": [
    {
     "name": "stdout",
     "output_type": "stream",
     "text": [
      "head\n"
     ]
    }
   ],
   "source": [
    "print(soup.title.parent.name)"
   ]
  },
  {
   "cell_type": "code",
   "execution_count": 7,
   "id": "10ae5cc8",
   "metadata": {},
   "outputs": [
    {
     "name": "stdout",
     "output_type": "stream",
     "text": [
      "<p class=\"title\"><b>The Dormouse's story</b></p>\n"
     ]
    }
   ],
   "source": [
    "print(soup.p)"
   ]
  },
  {
   "cell_type": "code",
   "execution_count": 8,
   "id": "752f7149",
   "metadata": {},
   "outputs": [
    {
     "name": "stdout",
     "output_type": "stream",
     "text": [
      "['title']\n"
     ]
    }
   ],
   "source": [
    "print(soup.p['class'])"
   ]
  },
  {
   "cell_type": "code",
   "execution_count": 9,
   "id": "78af1ac2",
   "metadata": {},
   "outputs": [
    {
     "name": "stdout",
     "output_type": "stream",
     "text": [
      "<a class=\"sister\" href=\"http://example.com/elsie\" id=\"link1\">Elsie</a>\n"
     ]
    }
   ],
   "source": [
    "print(soup.a)"
   ]
  },
  {
   "cell_type": "code",
   "execution_count": 10,
   "id": "f6512ae5",
   "metadata": {},
   "outputs": [
    {
     "name": "stdout",
     "output_type": "stream",
     "text": [
      "[<a class=\"sister\" href=\"http://example.com/elsie\" id=\"link1\">Elsie</a>, <a class=\"sister\" href=\"http://example.com/lacie\" id=\"link2\">Lacie</a>, <a class=\"sister\" href=\"http://example.com/tillie\" id=\"link3\">Tillie</a>]\n"
     ]
    }
   ],
   "source": [
    "print(soup.find_all('a'))"
   ]
  },
  {
   "cell_type": "code",
   "execution_count": 11,
   "id": "79b59b98",
   "metadata": {},
   "outputs": [
    {
     "name": "stdout",
     "output_type": "stream",
     "text": [
      "<a class=\"sister\" href=\"http://example.com/tillie\" id=\"link3\">Tillie</a>\n"
     ]
    }
   ],
   "source": [
    "print(soup.find(id=\"link3\"))"
   ]
  },
  {
   "cell_type": "markdown",
   "id": "73581dce",
   "metadata": {},
   "source": [
    "One common task is extracting all the URLs found within a page’s `<a>` tags:"
   ]
  },
  {
   "cell_type": "code",
   "execution_count": 12,
   "id": "0f6430a1",
   "metadata": {},
   "outputs": [
    {
     "name": "stdout",
     "output_type": "stream",
     "text": [
      "http://example.com/elsie\n",
      "http://example.com/lacie\n",
      "http://example.com/tillie\n"
     ]
    }
   ],
   "source": [
    "for link in soup.find_all('a'):\n",
    "    print(link.get('href'))"
   ]
  },
  {
   "cell_type": "markdown",
   "id": "78f74429",
   "metadata": {},
   "source": [
    "Another common task is extracting all the text from a page:"
   ]
  },
  {
   "cell_type": "code",
   "execution_count": 13,
   "id": "c303aa0a",
   "metadata": {},
   "outputs": [
    {
     "name": "stdout",
     "output_type": "stream",
     "text": [
      "The Dormouse's story\n",
      "\n",
      "The Dormouse's story\n",
      "Once upon a time there were three little sisters; and their names were\n",
      "Elsie,\n",
      "Lacie and\n",
      "Tillie;\n",
      "and they lived at the bottom of a well.\n",
      "...\n",
      "\n"
     ]
    }
   ],
   "source": [
    "print(soup.get_text())"
   ]
  },
  {
   "cell_type": "markdown",
   "id": "d8712e69",
   "metadata": {},
   "source": [
    "## Making the soup"
   ]
  },
  {
   "cell_type": "markdown",
   "id": "4188dfb1",
   "metadata": {},
   "source": [
    "To parse a document, pass it into the `BeautifulSoup` constructor. You can pass in a string or an open filehandle:"
   ]
  },
  {
   "cell_type": "code",
   "execution_count": 14,
   "id": "7d790d5d",
   "metadata": {},
   "outputs": [],
   "source": [
    "from bs4 import BeautifulSoup\n",
    "\n",
    "with open(\"index.html\") as fp:\n",
    "    soup = BeautifulSoup(fp, 'html.parser')\n",
    "\n",
    "soup = BeautifulSoup(\"<html>a web page</html>\", 'html.parser')"
   ]
  },
  {
   "cell_type": "markdown",
   "id": "eac265b4",
   "metadata": {},
   "source": [
    "First, the document is converted to Unicode, and HTML entities are converted to Unicode characters:"
   ]
  },
  {
   "cell_type": "code",
   "execution_count": 15,
   "id": "be407609",
   "metadata": {},
   "outputs": [
    {
     "name": "stdout",
     "output_type": "stream",
     "text": [
      "<html><head></head><body>Sacré bleu!</body></html>\n"
     ]
    }
   ],
   "source": [
    "print(BeautifulSoup(\"<html><head></head><body>Sacr&eacute; bleu!</body></html>\", \"html.parser\"))"
   ]
  },
  {
   "cell_type": "markdown",
   "id": "9a709dee",
   "metadata": {},
   "source": [
    "Beautiful Soup then parses the document using the best available parser. It will use an HTML parser unless you specifically tell it to use an XML parser. ([See Parsing XML.](https://www.crummy.com/software/BeautifulSoup/bs4/doc/#id17))"
   ]
  },
  {
   "cell_type": "markdown",
   "id": "afcda33d",
   "metadata": {},
   "source": [
    "## Kinds of objects"
   ]
  },
  {
   "cell_type": "markdown",
   "id": "0c1d29d0",
   "metadata": {},
   "source": [
    "Beautiful Soup transforms a complex HTML document into a complex tree of Python objects. But you’ll only ever have to deal with about four kinds of objects: `Tag`, `NavigableString`, `BeautifulSoup`, and `Comment`."
   ]
  },
  {
   "cell_type": "markdown",
   "id": "f8d57ba3",
   "metadata": {},
   "source": [
    "### Tag"
   ]
  },
  {
   "cell_type": "markdown",
   "id": "10d7196c",
   "metadata": {},
   "source": [
    "A `Tag` object corresponds to an XML or HTML tag in the original document:"
   ]
  },
  {
   "cell_type": "code",
   "execution_count": 16,
   "id": "bc23d298",
   "metadata": {},
   "outputs": [
    {
     "data": {
      "text/plain": [
       "bs4.element.Tag"
      ]
     },
     "execution_count": 16,
     "metadata": {},
     "output_type": "execute_result"
    }
   ],
   "source": [
    "soup = BeautifulSoup('<b class=\"boldest\">Extremely bold</b>', 'html.parser')\n",
    "tag = soup.b\n",
    "type(tag)"
   ]
  },
  {
   "cell_type": "markdown",
   "id": "7f5df963",
   "metadata": {},
   "source": [
    "Tags have a lot of attributes and methods, and I’ll cover most of them in [Navigating the tree](https://www.crummy.com/software/BeautifulSoup/bs4/doc/#navigating-the-tree) and [Searching the tree](https://www.crummy.com/software/BeautifulSoup/bs4/doc/#searching-the-tree). For now, the most important features of a tag are its name and attributes."
   ]
  },
  {
   "cell_type": "markdown",
   "id": "17951396",
   "metadata": {},
   "source": [
    "#### Name"
   ]
  },
  {
   "cell_type": "markdown",
   "id": "1047131a",
   "metadata": {},
   "source": [
    "Every tag has a name, accessible as `.name`:"
   ]
  },
  {
   "cell_type": "code",
   "execution_count": 17,
   "id": "34cd9e0c",
   "metadata": {},
   "outputs": [
    {
     "name": "stdout",
     "output_type": "stream",
     "text": [
      "b\n"
     ]
    }
   ],
   "source": [
    "print(tag.name)"
   ]
  },
  {
   "cell_type": "markdown",
   "id": "e85748df",
   "metadata": {},
   "source": [
    "If you change a tag’s name, the change will be reflected in any HTML markup generated by Beautiful Soup:"
   ]
  },
  {
   "cell_type": "code",
   "execution_count": 18,
   "id": "536bef05",
   "metadata": {},
   "outputs": [
    {
     "name": "stdout",
     "output_type": "stream",
     "text": [
      "<blockquote class=\"boldest\">Extremely bold</blockquote>\n"
     ]
    }
   ],
   "source": [
    "tag.name = \"blockquote\"\n",
    "print(tag)"
   ]
  },
  {
   "cell_type": "markdown",
   "id": "ebffe109",
   "metadata": {},
   "source": [
    "#### Attributes"
   ]
  },
  {
   "cell_type": "markdown",
   "id": "0c656c61",
   "metadata": {},
   "source": [
    "A tag may have any number of attributes. The tag `<b id=\"boldest\">` has an attribute “id” whose value is “boldest”. You can access a tag’s attributes by treating the tag like a dictionary:"
   ]
  },
  {
   "cell_type": "code",
   "execution_count": 19,
   "id": "a31b98ed",
   "metadata": {},
   "outputs": [
    {
     "name": "stdout",
     "output_type": "stream",
     "text": [
      "boldest\n"
     ]
    }
   ],
   "source": [
    "tag = BeautifulSoup('<b id=\"boldest\">bold</b>', 'html.parser').b\n",
    "print(tag['id'])"
   ]
  },
  {
   "cell_type": "markdown",
   "id": "8786a708",
   "metadata": {},
   "source": [
    "You can access that dictionary directly as `.attrs`:"
   ]
  },
  {
   "cell_type": "code",
   "execution_count": 20,
   "id": "3b73ac07",
   "metadata": {},
   "outputs": [
    {
     "name": "stdout",
     "output_type": "stream",
     "text": [
      "{'id': 'boldest'}\n"
     ]
    }
   ],
   "source": [
    "print(tag.attrs)"
   ]
  },
  {
   "cell_type": "markdown",
   "id": "b1752068",
   "metadata": {},
   "source": [
    "You can add, remove, and modify a tag’s attributes. Again, this is done by treating the tag as a dictionary:"
   ]
  },
  {
   "cell_type": "code",
   "execution_count": 21,
   "id": "7c29e397",
   "metadata": {},
   "outputs": [
    {
     "name": "stdout",
     "output_type": "stream",
     "text": [
      "<b another-attribute=\"1\" id=\"verybold\">bold</b>\n"
     ]
    }
   ],
   "source": [
    "tag['id'] = 'verybold'\n",
    "tag['another-attribute'] = 1\n",
    "print(tag)"
   ]
  },
  {
   "cell_type": "code",
   "execution_count": 22,
   "id": "2430def2",
   "metadata": {},
   "outputs": [
    {
     "name": "stdout",
     "output_type": "stream",
     "text": [
      "<b>bold</b>\n"
     ]
    }
   ],
   "source": [
    "del tag['id']\n",
    "del tag['another-attribute']\n",
    "print(tag)"
   ]
  },
  {
   "cell_type": "code",
   "execution_count": 23,
   "id": "d52212c9",
   "metadata": {},
   "outputs": [
    {
     "name": "stdout",
     "output_type": "stream",
     "text": [
      "No Dict\n"
     ]
    }
   ],
   "source": [
    "if tag.attrs:\n",
    "    print(\"Chido\")\n",
    "else:\n",
    "    print(\"No Dict\")"
   ]
  },
  {
   "cell_type": "markdown",
   "id": "6d18d1b2",
   "metadata": {},
   "source": [
    "##### Multi-valued attributes"
   ]
  },
  {
   "cell_type": "markdown",
   "id": "39056090",
   "metadata": {},
   "source": [
    "HTML 4 defines a few attributes that can have multiple values. HTML 5 removes a couple of them, but defines a few more. The most common multi-valued attribute is `class` (that is, a tag can have more than one CSS class). Others include `rel`, `rev`, `accept-charset`, `headers`, and `accesskey`. Beautiful Soup presents the value(s) of a multi-valued attribute as a list:"
   ]
  },
  {
   "cell_type": "code",
   "execution_count": 24,
   "id": "fcd7872d",
   "metadata": {},
   "outputs": [
    {
     "name": "stdout",
     "output_type": "stream",
     "text": [
      "['body']\n"
     ]
    }
   ],
   "source": [
    "css_soup = BeautifulSoup('<p class=\"body\"></p>', 'html.parser')\n",
    "print(css_soup.p['class'])"
   ]
  },
  {
   "cell_type": "code",
   "execution_count": 25,
   "id": "2dfef2d3",
   "metadata": {},
   "outputs": [
    {
     "name": "stdout",
     "output_type": "stream",
     "text": [
      "['body', 'strikeout']\n"
     ]
    }
   ],
   "source": [
    "css_soup = BeautifulSoup('<p class=\"body strikeout\"></p>', 'html.parser')\n",
    "print(css_soup.p['class'])"
   ]
  },
  {
   "cell_type": "markdown",
   "id": "36f37e81",
   "metadata": {},
   "source": [
    "If an attribute *looks* like it has more than one value, but it’s not a multi-valued attribute as defined by any version of the HTML standard, Beautiful Soup will leave the attribute alone:"
   ]
  },
  {
   "cell_type": "code",
   "execution_count": 26,
   "id": "d39dc61a",
   "metadata": {},
   "outputs": [
    {
     "name": "stdout",
     "output_type": "stream",
     "text": [
      "my id\n"
     ]
    }
   ],
   "source": [
    "id_soup = BeautifulSoup('<p id=\"my id\"></p>', 'html.parser')\n",
    "print(id_soup.p['id'])"
   ]
  },
  {
   "cell_type": "markdown",
   "id": "35570571",
   "metadata": {},
   "source": [
    "When you turn a tag back into a string, multiple attribute values are consolidated:"
   ]
  },
  {
   "cell_type": "code",
   "execution_count": 27,
   "id": "8c58443a",
   "metadata": {},
   "outputs": [
    {
     "name": "stdout",
     "output_type": "stream",
     "text": [
      "['index']\n"
     ]
    }
   ],
   "source": [
    "rel_soup = BeautifulSoup('<p>Back to the <a rel=\"index\">homepage</a></p>', 'html.parser')\n",
    "print(rel_soup.a['rel'])"
   ]
  },
  {
   "cell_type": "code",
   "execution_count": 28,
   "id": "416d75dd",
   "metadata": {},
   "outputs": [
    {
     "name": "stdout",
     "output_type": "stream",
     "text": [
      "<p>Back to the <a rel=\"index contents\">homepage</a></p>\n"
     ]
    }
   ],
   "source": [
    "rel_soup.a['rel'] = ['index', 'contents']\n",
    "print(rel_soup.p)"
   ]
  },
  {
   "cell_type": "markdown",
   "id": "5a596154",
   "metadata": {},
   "source": [
    "You can disable this by passing `multi_valued_attributes=None` as a keyword argument into the `BeautifulSoup` constructor:"
   ]
  },
  {
   "cell_type": "code",
   "execution_count": 29,
   "id": "e63d160e",
   "metadata": {},
   "outputs": [
    {
     "name": "stdout",
     "output_type": "stream",
     "text": [
      "body strikeout\n"
     ]
    }
   ],
   "source": [
    "no_list_soup = BeautifulSoup('<p class=\"body strikeout\"></p>', 'html.parser', multi_valued_attributes=None)\n",
    "print(no_list_soup.p['class'])"
   ]
  },
  {
   "cell_type": "markdown",
   "id": "313c13c5",
   "metadata": {},
   "source": [
    "You can use `get_attribute_list` to get a value that’s always a list, whether or not it’s a multi-valued atribute:"
   ]
  },
  {
   "cell_type": "code",
   "execution_count": 30,
   "id": "8c18fa6d",
   "metadata": {},
   "outputs": [
    {
     "name": "stdout",
     "output_type": "stream",
     "text": [
      "['my id']\n"
     ]
    }
   ],
   "source": [
    "print(id_soup.p.get_attribute_list('id'))"
   ]
  },
  {
   "cell_type": "markdown",
   "id": "390136a4",
   "metadata": {},
   "source": [
    "If you parse a document as XML, there are no multi-valued attributes:"
   ]
  },
  {
   "cell_type": "code",
   "execution_count": 31,
   "id": "61a4222a",
   "metadata": {},
   "outputs": [
    {
     "name": "stdout",
     "output_type": "stream",
     "text": [
      "body strikeout\n"
     ]
    }
   ],
   "source": [
    "xml_soup = BeautifulSoup('<p class=\"body strikeout\"></p>', 'xml')\n",
    "print(xml_soup.p['class'])"
   ]
  },
  {
   "cell_type": "markdown",
   "id": "30bfae54",
   "metadata": {},
   "source": [
    "Again, you can configure this using the `multi_valued_attributes` argument:"
   ]
  },
  {
   "cell_type": "code",
   "execution_count": 32,
   "id": "0e4e2606",
   "metadata": {},
   "outputs": [
    {
     "name": "stdout",
     "output_type": "stream",
     "text": [
      "['body', 'strikeout']\n"
     ]
    }
   ],
   "source": [
    "class_is_multi= { '*' : 'class'}\n",
    "xml_soup = BeautifulSoup('<p class=\"body strikeout\"></p>', 'xml', multi_valued_attributes=class_is_multi)\n",
    "print(xml_soup.p['class'])"
   ]
  },
  {
   "cell_type": "markdown",
   "id": "1081a947",
   "metadata": {},
   "source": [
    "You probably won’t need to do this, but if you do, use the defaults as a guide. They implement the rules described in the HTML specification:"
   ]
  },
  {
   "cell_type": "code",
   "execution_count": 33,
   "id": "fe2333db",
   "metadata": {},
   "outputs": [
    {
     "data": {
      "text/plain": [
       "{'*': ['class', 'accesskey', 'dropzone'],\n",
       " 'a': ['rel', 'rev'],\n",
       " 'link': ['rel', 'rev'],\n",
       " 'td': ['headers'],\n",
       " 'th': ['headers'],\n",
       " 'form': ['accept-charset'],\n",
       " 'object': ['archive'],\n",
       " 'area': ['rel'],\n",
       " 'icon': ['sizes'],\n",
       " 'iframe': ['sandbox'],\n",
       " 'output': ['for']}"
      ]
     },
     "execution_count": 33,
     "metadata": {},
     "output_type": "execute_result"
    }
   ],
   "source": [
    "from bs4.builder import builder_registry\n",
    "builder_registry.lookup('html').DEFAULT_CDATA_LIST_ATTRIBUTES"
   ]
  },
  {
   "cell_type": "markdown",
   "id": "23c57638",
   "metadata": {},
   "source": [
    "### `NavigableString`"
   ]
  },
  {
   "cell_type": "markdown",
   "id": "e6e7ceff",
   "metadata": {},
   "source": [
    "A string corresponds to a bit of text within a tag. Beautiful Soup uses the `NavigableString` class to contain these bits of text:"
   ]
  },
  {
   "cell_type": "code",
   "execution_count": 34,
   "id": "04bb1e3f",
   "metadata": {},
   "outputs": [
    {
     "name": "stdout",
     "output_type": "stream",
     "text": [
      "Extremely bold\n"
     ]
    }
   ],
   "source": [
    "soup = BeautifulSoup('<b class=\"boldest\">Extremely bold</b>', 'html.parser')\n",
    "tag = soup.b\n",
    "print(tag.string)"
   ]
  },
  {
   "cell_type": "code",
   "execution_count": 35,
   "id": "e3e6501b",
   "metadata": {},
   "outputs": [
    {
     "name": "stdout",
     "output_type": "stream",
     "text": [
      "<class 'bs4.element.NavigableString'>\n"
     ]
    }
   ],
   "source": [
    "print(type(tag.string))"
   ]
  },
  {
   "cell_type": "markdown",
   "id": "bdf92052",
   "metadata": {},
   "source": [
    "A `NavigableString` is just like a Python Unicode string, except that it also supports some of the features described in [Navigating the tree](https://www.crummy.com/software/BeautifulSoup/bs4/doc/#navigating-the-tree) and [Searching the tree](https://www.crummy.com/software/BeautifulSoup/bs4/doc/#searching-the-tree). You can convert a `NavigableString` to a Unicode string with `str`:"
   ]
  },
  {
   "cell_type": "code",
   "execution_count": 36,
   "id": "36b530a4",
   "metadata": {},
   "outputs": [
    {
     "name": "stdout",
     "output_type": "stream",
     "text": [
      "Extremely bold\n"
     ]
    }
   ],
   "source": [
    "unicode_string = str(tag.string)\n",
    "print(unicode_string)"
   ]
  },
  {
   "cell_type": "code",
   "execution_count": 37,
   "id": "1a11c3c3",
   "metadata": {},
   "outputs": [
    {
     "name": "stdout",
     "output_type": "stream",
     "text": [
      "<class 'str'>\n"
     ]
    }
   ],
   "source": [
    "print(type(unicode_string))"
   ]
  },
  {
   "cell_type": "markdown",
   "id": "92a8bc65",
   "metadata": {},
   "source": [
    "You can’t edit a string in place, but you can replace one string with another, using [replace_with()](https://www.crummy.com/software/BeautifulSoup/bs4/doc/#replace-with):"
   ]
  },
  {
   "cell_type": "code",
   "execution_count": 38,
   "id": "e17e2c66",
   "metadata": {},
   "outputs": [
    {
     "name": "stdout",
     "output_type": "stream",
     "text": [
      "<b class=\"boldest\">No longer bold</b>\n"
     ]
    }
   ],
   "source": [
    "tag.string.replace_with(\"No longer bold\")\n",
    "print(tag)"
   ]
  },
  {
   "cell_type": "markdown",
   "id": "36467df8",
   "metadata": {},
   "source": [
    "`NavigableString` supports most of the features described in [Navigating the tree](https://www.crummy.com/software/BeautifulSoup/bs4/doc/#navigating-the-tree) and [Searching the tree](https://www.crummy.com/software/BeautifulSoup/bs4/doc/#searching-the-tree), but not all of them. In particular, since a string can’t contain anything (the way a tag may contain a string or another tag), strings don’t support the `.contents` or `.string` attributes, or the `find()` method.\n",
    "\n",
    "If you want to use a `NavigableString` outside of Beautiful Soup, you should call `unicode()` on it to turn it into a normal Python Unicode string. If you don’t, your string will carry around a reference to the entire Beautiful Soup parse tree, even when you’re done using Beautiful Soup. This is a big waste of memory."
   ]
  },
  {
   "cell_type": "markdown",
   "id": "28fc6db9",
   "metadata": {},
   "source": [
    "### `BeautifulSoup`"
   ]
  },
  {
   "cell_type": "markdown",
   "id": "306cacd1",
   "metadata": {},
   "source": [
    "The `BeautifulSoup` object represents the parsed document as a whole. For most purposes, you can treat it as a [Tag](https://www.crummy.com/software/BeautifulSoup/bs4/doc/#tag) object. This means it supports most of the methods described in [Navigating the tree](https://www.crummy.com/software/BeautifulSoup/bs4/doc/#navigating-the-tree) and [Searching the tree](https://www.crummy.com/software/BeautifulSoup/bs4/doc/#searching-the-tree).\n",
    "\n",
    "You can also pass a `BeautifulSoup` object into one of the methods defined in [Modifying the tree](https://www.crummy.com/software/BeautifulSoup/bs4/doc/#modifying-the-tree), just as you would a [Tag](https://www.crummy.com/software/BeautifulSoup/bs4/doc/#tag). This lets you do things like combine two parsed documents:"
   ]
  },
  {
   "cell_type": "code",
   "execution_count": 39,
   "id": "c16454be",
   "metadata": {},
   "outputs": [
    {
     "data": {
      "text/plain": [
       "'INSERT FOOTER HERE'"
      ]
     },
     "execution_count": 39,
     "metadata": {},
     "output_type": "execute_result"
    }
   ],
   "source": [
    "doc = BeautifulSoup(\"<document><content/>INSERT FOOTER HERE</document\", \"xml\")\n",
    "footer = BeautifulSoup(\"<footer>Here's the footer</footer>\", \"xml\")\n",
    "doc.find(text=\"INSERT FOOTER HERE\").replace_with(footer)"
   ]
  },
  {
   "cell_type": "code",
   "execution_count": 40,
   "id": "6a96a851",
   "metadata": {},
   "outputs": [
    {
     "name": "stdout",
     "output_type": "stream",
     "text": [
      "<?xml version=\"1.0\" encoding=\"utf-8\"?>\n",
      "<document><content/><footer>Here's the footer</footer></document>\n"
     ]
    }
   ],
   "source": [
    "print(doc)"
   ]
  },
  {
   "cell_type": "markdown",
   "id": "f92f75da",
   "metadata": {},
   "source": [
    "Since the `BeautifulSoup` object doesn’t correspond to an actual HTML or XML tag, it has no name and no attributes. But sometimes it’s useful to look at its `.name`, so it’s been given the special `.name` “\\[document\\]”:"
   ]
  },
  {
   "cell_type": "code",
   "execution_count": 41,
   "id": "207f1722",
   "metadata": {},
   "outputs": [
    {
     "name": "stdout",
     "output_type": "stream",
     "text": [
      "[document]\n"
     ]
    }
   ],
   "source": [
    "print(soup.name)"
   ]
  },
  {
   "cell_type": "markdown",
   "id": "5b9d2594",
   "metadata": {},
   "source": [
    "### Comments and other special strings"
   ]
  },
  {
   "cell_type": "markdown",
   "id": "024b99b8",
   "metadata": {},
   "source": [
    "`Tag`, `NavigableString`, and `BeautifulSoup` cover almost everything you’ll see in an HTML or XML file, but there are a few leftover bits. The main one you’ll probably encounter is the comment:"
   ]
  },
  {
   "cell_type": "code",
   "execution_count": 42,
   "id": "a053168f",
   "metadata": {},
   "outputs": [
    {
     "name": "stdout",
     "output_type": "stream",
     "text": [
      "<class 'bs4.element.Comment'>\n"
     ]
    }
   ],
   "source": [
    "markup = \"<b><!--Hey, buddy. Want to buy a used parser?--></b>\"\n",
    "soup = BeautifulSoup(markup, 'html.parser')\n",
    "comment = soup.b.string\n",
    "print(type(comment))"
   ]
  },
  {
   "cell_type": "markdown",
   "id": "16ca68f5",
   "metadata": {},
   "source": [
    "The `Comment` object is just a special type of `NavigableString`:"
   ]
  },
  {
   "cell_type": "code",
   "execution_count": 43,
   "id": "da91b268",
   "metadata": {},
   "outputs": [
    {
     "name": "stdout",
     "output_type": "stream",
     "text": [
      "Hey, buddy. Want to buy a used parser?\n"
     ]
    }
   ],
   "source": [
    "print(comment)"
   ]
  },
  {
   "cell_type": "markdown",
   "id": "ba7bca6b",
   "metadata": {},
   "source": [
    "But when it appears as part of an HTML document, a `Comment` is displayed with special formatting:"
   ]
  },
  {
   "cell_type": "code",
   "execution_count": 44,
   "id": "4da48bad",
   "metadata": {},
   "outputs": [
    {
     "name": "stdout",
     "output_type": "stream",
     "text": [
      "<b>\n",
      " <!--Hey, buddy. Want to buy a used parser?-->\n",
      "</b>\n"
     ]
    }
   ],
   "source": [
    "print(soup.b.prettify())"
   ]
  },
  {
   "cell_type": "markdown",
   "id": "78c49da7",
   "metadata": {},
   "source": [
    "Beautiful Soup also defines classes called `Stylesheet`, `Script`, and `TemplateString`, for embedded CSS stylesheets (any strings found inside a `<style>` tag), embedded Javascript (any strings found in a `<script>` tag), and HTML templates (any strings inside a `<template>` tag). These classes work exactly the same way as `NavigableString`; their only purpose is to make it easier to pick out the main body of the page, by ignoring strings that represent something else. *(These classes are new in Beautiful Soup 4.9.0, and the html5lib parser doesn’t use them.)*\n",
    "\n",
    "Beautiful Soup defines classes for anything else that might show up in an XML document: `CData`, `ProcessingInstruction`, `Declaration`, and `Doctype`. Like `Comment`, these classes are subclasses of `NavigableString` that add something extra to the string. Here’s an example that replaces the comment with a CDATA block:"
   ]
  },
  {
   "cell_type": "code",
   "execution_count": 45,
   "id": "325e6aed",
   "metadata": {},
   "outputs": [
    {
     "name": "stdout",
     "output_type": "stream",
     "text": [
      "<b>\n",
      " <![CDATA[A CDATA block]]>\n",
      "</b>\n"
     ]
    }
   ],
   "source": [
    "from bs4 import CData\n",
    "cdata = CData(\"A CDATA block\")\n",
    "comment.replace_with(cdata)\n",
    "\n",
    "print(soup.b.prettify())"
   ]
  },
  {
   "cell_type": "markdown",
   "id": "95d2c28d",
   "metadata": {},
   "source": [
    "## Navigating the tree"
   ]
  },
  {
   "cell_type": "markdown",
   "id": "354f471d",
   "metadata": {},
   "source": [
    "Here’s the “Three sisters” HTML document again:"
   ]
  },
  {
   "cell_type": "code",
   "execution_count": 46,
   "id": "1fbf93aa",
   "metadata": {},
   "outputs": [],
   "source": [
    "html_doc = \"\"\"\n",
    "<html><head><title>The Dormouse's story</title></head>\n",
    "<body>\n",
    "<p class=\"title\"><b>The Dormouse's story</b></p>\n",
    "\n",
    "<p class=\"story\">Once upon a time there were three little sisters; and their names were\n",
    "<a href=\"http://example.com/elsie\" class=\"sister\" id=\"link1\">Elsie</a>,\n",
    "<a href=\"http://example.com/lacie\" class=\"sister\" id=\"link2\">Lacie</a> and\n",
    "<a href=\"http://example.com/tillie\" class=\"sister\" id=\"link3\">Tillie</a>;\n",
    "and they lived at the bottom of a well.</p>\n",
    "\n",
    "<p class=\"story\">...</p>\n",
    "\"\"\"\n",
    "\n",
    "from bs4 import BeautifulSoup\n",
    "soup = BeautifulSoup(html_doc, 'html.parser')"
   ]
  },
  {
   "cell_type": "markdown",
   "id": "da5432d5",
   "metadata": {},
   "source": [
    "I’ll use this as an example to show you how to move from one part of a document to another."
   ]
  },
  {
   "cell_type": "markdown",
   "id": "ddacec69",
   "metadata": {},
   "source": [
    "### Going down"
   ]
  },
  {
   "cell_type": "markdown",
   "id": "c9e2fa16",
   "metadata": {},
   "source": [
    "Tags may contain strings and other tags. These elements are the tag’s *children*. Beautiful Soup provides a lot of different attributes for navigating and iterating over a tag’s children.\n",
    "\n",
    "Note that Beautiful Soup strings don’t support any of these attributes, because a string can’t have children."
   ]
  },
  {
   "cell_type": "markdown",
   "id": "641996e0",
   "metadata": {},
   "source": [
    "#### Navigating using tag names"
   ]
  },
  {
   "cell_type": "markdown",
   "id": "ea714136",
   "metadata": {},
   "source": [
    "The simplest way to navigate the parse tree is to say the name of the tag you want. If you want the \\<head\\> tag, just say `soup.head`:"
   ]
  },
  {
   "cell_type": "code",
   "execution_count": 47,
   "id": "a5b18611",
   "metadata": {},
   "outputs": [
    {
     "name": "stdout",
     "output_type": "stream",
     "text": [
      "<head><title>The Dormouse's story</title></head>\n"
     ]
    }
   ],
   "source": [
    "print(soup.head)"
   ]
  },
  {
   "cell_type": "code",
   "execution_count": 48,
   "id": "6564f036",
   "metadata": {},
   "outputs": [
    {
     "name": "stdout",
     "output_type": "stream",
     "text": [
      "<title>The Dormouse's story</title>\n"
     ]
    }
   ],
   "source": [
    "print(soup.title)"
   ]
  },
  {
   "cell_type": "markdown",
   "id": "ae4b57d4",
   "metadata": {},
   "source": [
    "You can do use this trick again and again to zoom in on a certain part of the parse tree. This code gets the first \\<b\\> tag beneath the \\<body\\> tag:"
   ]
  },
  {
   "cell_type": "code",
   "execution_count": 49,
   "id": "fda1049c",
   "metadata": {},
   "outputs": [
    {
     "name": "stdout",
     "output_type": "stream",
     "text": [
      "<b>The Dormouse's story</b>\n"
     ]
    }
   ],
   "source": [
    "print(soup.body.b)"
   ]
  },
  {
   "cell_type": "markdown",
   "id": "4d6b6154",
   "metadata": {},
   "source": [
    "Using a tag name as an attribute will give you only the *first* tab by that name:"
   ]
  },
  {
   "cell_type": "code",
   "execution_count": 50,
   "id": "0c2d0425",
   "metadata": {},
   "outputs": [
    {
     "name": "stdout",
     "output_type": "stream",
     "text": [
      "<a class=\"sister\" href=\"http://example.com/elsie\" id=\"link1\">Elsie</a>\n"
     ]
    }
   ],
   "source": [
    "print(soup.a)"
   ]
  },
  {
   "cell_type": "markdown",
   "id": "d63a427d",
   "metadata": {},
   "source": [
    "If you need get *all* the \\<a\\> tags, or anything more complicated than the first tag with a certain name, you'll need to use one of the methods described in [Searching the tree](https://www.crummy.com/software/BeautifulSoup/bs4/doc/#searching-the-tree), such as ***`find_all()`***:"
   ]
  },
  {
   "cell_type": "code",
   "execution_count": 51,
   "id": "756dd691",
   "metadata": {},
   "outputs": [
    {
     "name": "stdout",
     "output_type": "stream",
     "text": [
      "[<a class=\"sister\" href=\"http://example.com/elsie\" id=\"link1\">Elsie</a>, <a class=\"sister\" href=\"http://example.com/lacie\" id=\"link2\">Lacie</a>, <a class=\"sister\" href=\"http://example.com/tillie\" id=\"link3\">Tillie</a>]\n"
     ]
    }
   ],
   "source": [
    "print(soup.find_all(\"a\"))"
   ]
  },
  {
   "cell_type": "markdown",
   "id": "da379782",
   "metadata": {},
   "source": [
    "#### `.contents` and `.children`"
   ]
  },
  {
   "cell_type": "markdown",
   "id": "acfc5ce4",
   "metadata": {},
   "source": [
    "A tag's children are available in a list called `.contents`:"
   ]
  },
  {
   "cell_type": "code",
   "execution_count": 52,
   "id": "3119a91d",
   "metadata": {},
   "outputs": [
    {
     "name": "stdout",
     "output_type": "stream",
     "text": [
      "<head><title>The Dormouse's story</title></head>\n"
     ]
    }
   ],
   "source": [
    "head_tag = soup.head\n",
    "print(head_tag)"
   ]
  },
  {
   "cell_type": "code",
   "execution_count": 53,
   "id": "f8c5a3ca",
   "metadata": {},
   "outputs": [
    {
     "name": "stdout",
     "output_type": "stream",
     "text": [
      "[<title>The Dormouse's story</title>]\n"
     ]
    }
   ],
   "source": [
    "print(head_tag.contents)"
   ]
  },
  {
   "cell_type": "code",
   "execution_count": 54,
   "id": "4df64165",
   "metadata": {},
   "outputs": [
    {
     "name": "stdout",
     "output_type": "stream",
     "text": [
      "<title>The Dormouse's story</title>\n"
     ]
    }
   ],
   "source": [
    "title_tag = head_tag.contents[0]\n",
    "print(title_tag)"
   ]
  },
  {
   "cell_type": "code",
   "execution_count": 55,
   "id": "468b1ddf",
   "metadata": {},
   "outputs": [
    {
     "name": "stdout",
     "output_type": "stream",
     "text": [
      "[\"The Dormouse's story\"]\n"
     ]
    }
   ],
   "source": [
    "print(title_tag.contents)"
   ]
  },
  {
   "cell_type": "markdown",
   "id": "164dd98f",
   "metadata": {},
   "source": [
    "The `BeautifulSoup` object itself has children. In this case, the \\<html\\> tag is the child of the `BeautifulSoup` object.:"
   ]
  },
  {
   "cell_type": "code",
   "execution_count": 56,
   "id": "f69d11e5",
   "metadata": {},
   "outputs": [
    {
     "name": "stdout",
     "output_type": "stream",
     "text": [
      "2\n"
     ]
    }
   ],
   "source": [
    "print(len(soup.contents))"
   ]
  },
  {
   "cell_type": "code",
   "execution_count": 57,
   "id": "eebc7502",
   "metadata": {},
   "outputs": [
    {
     "name": "stdout",
     "output_type": "stream",
     "text": [
      "html\n"
     ]
    }
   ],
   "source": [
    "print(soup.contents[1].name)"
   ]
  },
  {
   "cell_type": "markdown",
   "id": "404d1250",
   "metadata": {},
   "source": [
    "A string does not have `.contents`, because it can’t contain anything:"
   ]
  },
  {
   "cell_type": "code",
   "execution_count": 58,
   "id": "83946353",
   "metadata": {},
   "outputs": [
    {
     "ename": "AttributeError",
     "evalue": "'NavigableString' object has no attribute 'contents'",
     "output_type": "error",
     "traceback": [
      "\u001b[0;31m---------------------------------------------------------------------------\u001b[0m",
      "\u001b[0;31mAttributeError\u001b[0m                            Traceback (most recent call last)",
      "\u001b[0;32m/tmp/ipykernel_494804/3640581345.py\u001b[0m in \u001b[0;36m<module>\u001b[0;34m\u001b[0m\n\u001b[1;32m      1\u001b[0m \u001b[0mtext\u001b[0m \u001b[0;34m=\u001b[0m \u001b[0mtitle_tag\u001b[0m\u001b[0;34m.\u001b[0m\u001b[0mcontents\u001b[0m\u001b[0;34m[\u001b[0m\u001b[0;36m0\u001b[0m\u001b[0;34m]\u001b[0m\u001b[0;34m\u001b[0m\u001b[0;34m\u001b[0m\u001b[0m\n\u001b[0;32m----> 2\u001b[0;31m \u001b[0mprint\u001b[0m\u001b[0;34m(\u001b[0m\u001b[0mtext\u001b[0m\u001b[0;34m.\u001b[0m\u001b[0mcontents\u001b[0m\u001b[0;34m)\u001b[0m\u001b[0;34m\u001b[0m\u001b[0;34m\u001b[0m\u001b[0m\n\u001b[0m",
      "\u001b[0;32m/usr/lib/python3/dist-packages/bs4/element.py\u001b[0m in \u001b[0;36m__getattr__\u001b[0;34m(self, attr)\u001b[0m\n\u001b[1;32m    961\u001b[0m             \u001b[0;32mreturn\u001b[0m \u001b[0mself\u001b[0m\u001b[0;34m\u001b[0m\u001b[0;34m\u001b[0m\u001b[0m\n\u001b[1;32m    962\u001b[0m         \u001b[0;32melse\u001b[0m\u001b[0;34m:\u001b[0m\u001b[0;34m\u001b[0m\u001b[0;34m\u001b[0m\u001b[0m\n\u001b[0;32m--> 963\u001b[0;31m             raise AttributeError(\n\u001b[0m\u001b[1;32m    964\u001b[0m                 \"'%s' object has no attribute '%s'\" % (\n\u001b[1;32m    965\u001b[0m                     self.__class__.__name__, attr))\n",
      "\u001b[0;31mAttributeError\u001b[0m: 'NavigableString' object has no attribute 'contents'"
     ]
    }
   ],
   "source": [
    "text = title_tag.contents[0]\n",
    "print(text.contents)"
   ]
  },
  {
   "cell_type": "markdown",
   "id": "3c985326",
   "metadata": {},
   "source": [
    "Instead of getting them as a list, you can iterate over a tag’s children using the `.children` generator:"
   ]
  },
  {
   "cell_type": "code",
   "execution_count": 59,
   "id": "03a169a0",
   "metadata": {},
   "outputs": [
    {
     "name": "stdout",
     "output_type": "stream",
     "text": [
      "The Dormouse's story\n"
     ]
    }
   ],
   "source": [
    "for child in title_tag.children:\n",
    "    print(child)"
   ]
  },
  {
   "cell_type": "markdown",
   "id": "826ac20d",
   "metadata": {},
   "source": [
    "If you want to modify a tag’s children, use the methods described in [Modifying the tree](https://www.crummy.com/software/BeautifulSoup/bs4/doc/#modifying-the-tree). Don’t modify the `.contents` list directly: that can lead to problems that are subtle and difficult to spot."
   ]
  },
  {
   "cell_type": "markdown",
   "id": "44b723fe",
   "metadata": {},
   "source": [
    "#### `.descendants`"
   ]
  },
  {
   "cell_type": "markdown",
   "id": "50ef6043",
   "metadata": {},
   "source": [
    "The `.contents` and `.children` attributes only consider a tag’s *direct* children. For instance, the \\<head\\> tag has a single direct child–the \\<title\\> tag:"
   ]
  },
  {
   "cell_type": "code",
   "execution_count": 60,
   "id": "09ecdef3",
   "metadata": {},
   "outputs": [
    {
     "name": "stdout",
     "output_type": "stream",
     "text": [
      "[<title>The Dormouse's story</title>]\n"
     ]
    }
   ],
   "source": [
    "print(head_tag.contents)"
   ]
  },
  {
   "cell_type": "markdown",
   "id": "eb753e16",
   "metadata": {},
   "source": [
    "But the \\<title\\> tag itself has a child: the string “The Dormouse’s story”. There’s a sense in which that string is also a child of the \\<head\\> tag. The `.descendants` attribute lets you iterate over *all* of a tag’s children, recursively: its direct children, the children of its direct children, and so on:"
   ]
  },
  {
   "cell_type": "code",
   "execution_count": 61,
   "id": "c0fdfe87",
   "metadata": {},
   "outputs": [
    {
     "name": "stdout",
     "output_type": "stream",
     "text": [
      "<title>The Dormouse's story</title>\n",
      "The Dormouse's story\n"
     ]
    }
   ],
   "source": [
    "for child in head_tag.descendants:\n",
    "    print(child)"
   ]
  },
  {
   "cell_type": "markdown",
   "id": "bb2b8e47",
   "metadata": {},
   "source": [
    "The \\<head\\> tag has only one child, but it has two descendants: the \\<title\\> tag and the \\<title\\> tag’s child. The `BeautifulSoup` object only has one direct child (the \\<html\\> tag), but it has a whole lot of descendants:"
   ]
  },
  {
   "cell_type": "code",
   "execution_count": 62,
   "id": "3186d9f3",
   "metadata": {},
   "outputs": [
    {
     "name": "stdout",
     "output_type": "stream",
     "text": [
      "2\n"
     ]
    }
   ],
   "source": [
    "print(len(list(soup.children)))"
   ]
  },
  {
   "cell_type": "code",
   "execution_count": 63,
   "id": "26122d56",
   "metadata": {},
   "outputs": [
    {
     "name": "stdout",
     "output_type": "stream",
     "text": [
      "27\n"
     ]
    }
   ],
   "source": [
    "print(len(list(soup.descendants)))"
   ]
  },
  {
   "cell_type": "markdown",
   "id": "eb2a7b2f",
   "metadata": {},
   "source": [
    "#### `.string`"
   ]
  },
  {
   "cell_type": "markdown",
   "id": "7d4de9d7",
   "metadata": {},
   "source": [
    "If a tag has only one child, and that child is a `NavigableString`, the child is made available as `.string`:"
   ]
  },
  {
   "cell_type": "code",
   "execution_count": 64,
   "id": "102739c0",
   "metadata": {},
   "outputs": [
    {
     "name": "stdout",
     "output_type": "stream",
     "text": [
      "The Dormouse's story\n"
     ]
    }
   ],
   "source": [
    "print(title_tag.string)"
   ]
  },
  {
   "cell_type": "markdown",
   "id": "796cc037",
   "metadata": {},
   "source": [
    "If a tag’s only child is another tag, and *that* tag has a `.string`, then the parent tag is considered to have the same `.string` as its child:"
   ]
  },
  {
   "cell_type": "code",
   "execution_count": 65,
   "id": "f42ec299",
   "metadata": {},
   "outputs": [
    {
     "name": "stdout",
     "output_type": "stream",
     "text": [
      "[<title>The Dormouse's story</title>]\n"
     ]
    }
   ],
   "source": [
    "print(head_tag.contents)"
   ]
  },
  {
   "cell_type": "code",
   "execution_count": 66,
   "id": "bc6fbba4",
   "metadata": {},
   "outputs": [
    {
     "name": "stdout",
     "output_type": "stream",
     "text": [
      "The Dormouse's story\n"
     ]
    }
   ],
   "source": [
    "print(head_tag.string)"
   ]
  },
  {
   "cell_type": "markdown",
   "id": "613ebc26",
   "metadata": {},
   "source": [
    "If a tag contains more than one thing, then it’s not clear what `.string` should refer to, so `.string` is defined to be `None`:"
   ]
  },
  {
   "cell_type": "code",
   "execution_count": 67,
   "id": "3750dea0",
   "metadata": {},
   "outputs": [
    {
     "name": "stdout",
     "output_type": "stream",
     "text": [
      "None\n"
     ]
    }
   ],
   "source": [
    "print(soup.html.string)"
   ]
  },
  {
   "cell_type": "markdown",
   "id": "8fd60987",
   "metadata": {},
   "source": [
    "#### `.strings` and `stripped_strings`"
   ]
  },
  {
   "cell_type": "markdown",
   "id": "bb18cffc",
   "metadata": {},
   "source": [
    "If there’s more than one thing inside a tag, you can still look at just the strings. Use the `.strings` generator:"
   ]
  },
  {
   "cell_type": "code",
   "execution_count": 68,
   "id": "cad88949",
   "metadata": {},
   "outputs": [
    {
     "name": "stdout",
     "output_type": "stream",
     "text": [
      "'\\n'\n",
      "\"The Dormouse's story\"\n",
      "'\\n'\n",
      "'\\n'\n",
      "\"The Dormouse's story\"\n",
      "'\\n'\n",
      "'Once upon a time there were three little sisters; and their names were\\n'\n",
      "'Elsie'\n",
      "',\\n'\n",
      "'Lacie'\n",
      "' and\\n'\n",
      "'Tillie'\n",
      "';\\nand they lived at the bottom of a well.'\n",
      "'\\n'\n",
      "'...'\n",
      "'\\n'\n"
     ]
    }
   ],
   "source": [
    "for string in soup.strings:\n",
    "    print(repr(string))"
   ]
  },
  {
   "cell_type": "markdown",
   "id": "ef3dadc5",
   "metadata": {},
   "source": [
    "These strings tend to have a lot of extra whitespace, which you can remove by using the `.stripped_strings` generator instead:"
   ]
  },
  {
   "cell_type": "code",
   "execution_count": 69,
   "id": "0dddcb95",
   "metadata": {},
   "outputs": [
    {
     "name": "stdout",
     "output_type": "stream",
     "text": [
      "\"The Dormouse's story\"\n",
      "\"The Dormouse's story\"\n",
      "'Once upon a time there were three little sisters; and their names were'\n",
      "'Elsie'\n",
      "','\n",
      "'Lacie'\n",
      "'and'\n",
      "'Tillie'\n",
      "';\\nand they lived at the bottom of a well.'\n",
      "'...'\n"
     ]
    }
   ],
   "source": [
    "for string in soup.stripped_strings:\n",
    "    print(repr(string))"
   ]
  },
  {
   "cell_type": "markdown",
   "id": "e8b133b6",
   "metadata": {},
   "source": [
    "Here, strings consisting entirely of whitespace are ignored, and whitespace at the beginning and end of strings is removed."
   ]
  },
  {
   "cell_type": "markdown",
   "id": "2a528d59",
   "metadata": {},
   "source": [
    "### Going up"
   ]
  },
  {
   "cell_type": "markdown",
   "id": "f7674159",
   "metadata": {},
   "source": [
    "Continuing the “family tree” analogy, every tag and every string has a *parent*: the tag that contains it."
   ]
  },
  {
   "cell_type": "markdown",
   "id": "cdf833c8",
   "metadata": {},
   "source": [
    "#### `.parent`"
   ]
  },
  {
   "cell_type": "markdown",
   "id": "9975b210",
   "metadata": {},
   "source": [
    "You can access an element’s parent with the `.parent` attribute. In the example “three sisters” document, the \\<head\\> tag is the parent of the \\<title\\> tag:"
   ]
  },
  {
   "cell_type": "code",
   "execution_count": 70,
   "id": "e34b6c8b",
   "metadata": {},
   "outputs": [
    {
     "name": "stdout",
     "output_type": "stream",
     "text": [
      "<title>The Dormouse's story</title>\n"
     ]
    }
   ],
   "source": [
    "title_tag = soup.title\n",
    "print(title_tag)"
   ]
  },
  {
   "cell_type": "code",
   "execution_count": 71,
   "id": "9bc48910",
   "metadata": {},
   "outputs": [
    {
     "name": "stdout",
     "output_type": "stream",
     "text": [
      "<head><title>The Dormouse's story</title></head>\n"
     ]
    }
   ],
   "source": [
    "print(title_tag.parent)"
   ]
  },
  {
   "cell_type": "markdown",
   "id": "dd1f9b8f",
   "metadata": {},
   "source": [
    "The title string itself has a parent: the \\<title\\> tag that contains it:"
   ]
  },
  {
   "cell_type": "code",
   "execution_count": 72,
   "id": "ef5dd423",
   "metadata": {},
   "outputs": [
    {
     "name": "stdout",
     "output_type": "stream",
     "text": [
      "<title>The Dormouse's story</title>\n"
     ]
    }
   ],
   "source": [
    "print(title_tag.string.parent)"
   ]
  },
  {
   "cell_type": "markdown",
   "id": "15d5682b",
   "metadata": {},
   "source": [
    "The parent of a top-level tag like \\<html\\> is the `BeautifulSoup` object itself:"
   ]
  },
  {
   "cell_type": "code",
   "execution_count": 73,
   "id": "7edc0bfd",
   "metadata": {},
   "outputs": [
    {
     "name": "stdout",
     "output_type": "stream",
     "text": [
      "<class 'bs4.BeautifulSoup'>\n"
     ]
    }
   ],
   "source": [
    "html_tag = soup.html\n",
    "print(type(html_tag.parent))"
   ]
  },
  {
   "cell_type": "markdown",
   "id": "913d55b0",
   "metadata": {},
   "source": [
    "And the `.parent` of a `BeautifulSoup` object is defined as None:"
   ]
  },
  {
   "cell_type": "code",
   "execution_count": 74,
   "id": "7a27c233",
   "metadata": {},
   "outputs": [
    {
     "name": "stdout",
     "output_type": "stream",
     "text": [
      "None\n"
     ]
    }
   ],
   "source": [
    "print(soup.parent)"
   ]
  },
  {
   "cell_type": "markdown",
   "id": "deb66dfe",
   "metadata": {},
   "source": [
    "#### `.parents`"
   ]
  },
  {
   "cell_type": "markdown",
   "id": "88b695f9",
   "metadata": {},
   "source": [
    "You can iterate over all of an element’s parents with `.parents`. This example uses `.parents` to travel from an  \\<a\\> tag buried deep within the document, to the very top of the document:"
   ]
  },
  {
   "cell_type": "code",
   "execution_count": 75,
   "id": "5c78c94a",
   "metadata": {},
   "outputs": [
    {
     "name": "stdout",
     "output_type": "stream",
     "text": [
      "<a class=\"sister\" href=\"http://example.com/elsie\" id=\"link1\">Elsie</a>\n"
     ]
    }
   ],
   "source": [
    "link = soup.a\n",
    "print(link)"
   ]
  },
  {
   "cell_type": "code",
   "execution_count": 76,
   "id": "ccab866b",
   "metadata": {},
   "outputs": [
    {
     "name": "stdout",
     "output_type": "stream",
     "text": [
      "p\n",
      "body\n",
      "html\n",
      "[document]\n"
     ]
    }
   ],
   "source": [
    "for parent in link.parents:\n",
    "    print(parent.name)"
   ]
  },
  {
   "cell_type": "markdown",
   "id": "7c054a28",
   "metadata": {},
   "source": [
    "### Going sideways"
   ]
  },
  {
   "cell_type": "markdown",
   "id": "df62f314",
   "metadata": {},
   "source": [
    "#### `.next_sibling` and `.previous_sibling`"
   ]
  },
  {
   "cell_type": "markdown",
   "id": "5d1a81bb",
   "metadata": {},
   "source": [
    "#### `.next_siblings` and `.previous_siblings`"
   ]
  },
  {
   "cell_type": "markdown",
   "id": "96372f5e",
   "metadata": {},
   "source": [
    "### Going back and forth"
   ]
  },
  {
   "cell_type": "markdown",
   "id": "27b8e2ba",
   "metadata": {},
   "source": [
    "#### `.next_element` and `.previous_element`"
   ]
  },
  {
   "cell_type": "markdown",
   "id": "9d1c14ff",
   "metadata": {},
   "source": [
    "#### `.next_elements` and `.previous_elements`"
   ]
  },
  {
   "cell_type": "markdown",
   "id": "b54bf4dc",
   "metadata": {},
   "source": [
    "## Searching the tree"
   ]
  },
  {
   "cell_type": "markdown",
   "id": "b3caa513",
   "metadata": {},
   "source": [
    "### Kinds of filters"
   ]
  },
  {
   "cell_type": "markdown",
   "id": "72c098a9",
   "metadata": {},
   "source": [
    "#### A string"
   ]
  },
  {
   "cell_type": "markdown",
   "id": "d1447813",
   "metadata": {},
   "source": [
    "#### A regular expression"
   ]
  },
  {
   "cell_type": "markdown",
   "id": "85350254",
   "metadata": {},
   "source": [
    "#### A list"
   ]
  },
  {
   "cell_type": "markdown",
   "id": "5684f348",
   "metadata": {},
   "source": [
    "#### `True`"
   ]
  },
  {
   "cell_type": "markdown",
   "id": "5a0cd4af",
   "metadata": {},
   "source": [
    "#### A function"
   ]
  },
  {
   "cell_type": "markdown",
   "id": "fbe479b0",
   "metadata": {},
   "source": [
    "### `find_all()`"
   ]
  },
  {
   "cell_type": "markdown",
   "id": "56d0f577",
   "metadata": {},
   "source": [
    "#### The `name` argument"
   ]
  },
  {
   "cell_type": "markdown",
   "id": "1b2208cb",
   "metadata": {},
   "source": [
    "#### The keyword arguments"
   ]
  },
  {
   "cell_type": "markdown",
   "id": "c99674d4",
   "metadata": {},
   "source": [
    "#### Searching by CSS class"
   ]
  },
  {
   "cell_type": "markdown",
   "id": "10052191",
   "metadata": {},
   "source": [
    "#### The `string` argument"
   ]
  },
  {
   "cell_type": "markdown",
   "id": "77343a1b",
   "metadata": {},
   "source": [
    "#### The `limit` argument"
   ]
  },
  {
   "cell_type": "markdown",
   "id": "ff91c47c",
   "metadata": {},
   "source": [
    "#### The `recursive` argument"
   ]
  },
  {
   "cell_type": "markdown",
   "id": "17e8d249",
   "metadata": {},
   "source": [
    "### Calling a tag is like calling `find_all()`"
   ]
  },
  {
   "cell_type": "markdown",
   "id": "e28d59e0",
   "metadata": {},
   "source": [
    "### `find()`"
   ]
  },
  {
   "cell_type": "markdown",
   "id": "5220130a",
   "metadata": {},
   "source": [
    "### `find_parents()` and `find_parent()`"
   ]
  },
  {
   "cell_type": "markdown",
   "id": "9b3f1668",
   "metadata": {},
   "source": [
    "### `find_next_siblings()` and `find_next_sibling()`"
   ]
  },
  {
   "cell_type": "markdown",
   "id": "e54fe3ef",
   "metadata": {},
   "source": [
    "### `find_previous_siblings()` and `find_previous_sibling()`"
   ]
  },
  {
   "cell_type": "markdown",
   "id": "a223528f",
   "metadata": {},
   "source": [
    "### `find_all_next()` and `find_next()`"
   ]
  },
  {
   "cell_type": "markdown",
   "id": "57f14102",
   "metadata": {},
   "source": [
    "### `find_all_previous()` and `find_previous()`"
   ]
  },
  {
   "cell_type": "markdown",
   "id": "8a831f63",
   "metadata": {},
   "source": [
    "### CSS selectors"
   ]
  },
  {
   "cell_type": "markdown",
   "id": "bb2af9db",
   "metadata": {},
   "source": [
    "## Modifying the tree"
   ]
  }
 ],
 "metadata": {
  "kernelspec": {
   "display_name": "Python 3 (ipykernel)",
   "language": "python",
   "name": "python3"
  },
  "language_info": {
   "codemirror_mode": {
    "name": "ipython",
    "version": 3
   },
   "file_extension": ".py",
   "mimetype": "text/x-python",
   "name": "python",
   "nbconvert_exporter": "python",
   "pygments_lexer": "ipython3",
   "version": "3.10.6"
  }
 },
 "nbformat": 4,
 "nbformat_minor": 5
}
