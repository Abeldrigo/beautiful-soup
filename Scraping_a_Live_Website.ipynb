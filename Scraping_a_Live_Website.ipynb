{
 "cells": [
  {
   "cell_type": "markdown",
   "id": "e917d6d3",
   "metadata": {},
   "source": [
    "# Beautiful Soup"
   ]
  },
  {
   "cell_type": "code",
   "execution_count": 1,
   "id": "06b12170",
   "metadata": {},
   "outputs": [],
   "source": [
    "from bs4 import BeautifulSoup\n",
    "import requests"
   ]
  },
  {
   "cell_type": "code",
   "execution_count": 2,
   "id": "cab9f502",
   "metadata": {},
   "outputs": [],
   "source": [
    "response = requests.get(\"https://news.ycombinator.com/news\")\n",
    "yc_webpage = response.text"
   ]
  },
  {
   "cell_type": "code",
   "execution_count": 3,
   "id": "0fb21c2b",
   "metadata": {},
   "outputs": [],
   "source": [
    "soup = BeautifulSoup(yc_webpage, \"html.parser\")\n",
    "#print(soup.prettify())"
   ]
  },
  {
   "cell_type": "code",
   "execution_count": 4,
   "id": "9a2b852b",
   "metadata": {},
   "outputs": [],
   "source": [
    "articles = soup.find_all(class_=\"titleline\")"
   ]
  },
  {
   "cell_type": "code",
   "execution_count": 5,
   "id": "aac17e79",
   "metadata": {},
   "outputs": [],
   "source": [
    "articles_text = []\n",
    "articles_links = []"
   ]
  },
  {
   "cell_type": "code",
   "execution_count": 6,
   "id": "420e5907",
   "metadata": {},
   "outputs": [],
   "source": [
    "for article_tag in articles:\n",
    "    #print(article_tag.contents)\n",
    "    text = article_tag.contents[0].getText() # Gets the text within the anchor tags.\n",
    "    #text = article_tag.contents[0].string   # Gets the text within the anchor tags as well.\n",
    "    articles_text.append(text) \n",
    "    \n",
    "    link = article_tag.contents[0].get(\"href\")\n",
    "    articles_links.append(link)"
   ]
  },
  {
   "cell_type": "code",
   "execution_count": 7,
   "id": "e0e17aa4",
   "metadata": {},
   "outputs": [],
   "source": [
    "article_upvotes = [int(score.getText().split()[0]) for score in soup.find_all(name=\"span\", class_=\"score\")]"
   ]
  },
  {
   "cell_type": "code",
   "execution_count": 8,
   "id": "dd3a9862",
   "metadata": {},
   "outputs": [],
   "source": [
    "largest_number = max(article_upvotes)"
   ]
  },
  {
   "cell_type": "code",
   "execution_count": 9,
   "id": "ed7a8f8b",
   "metadata": {},
   "outputs": [],
   "source": [
    "largest_index = article_upvotes.index(largest_number)"
   ]
  },
  {
   "cell_type": "code",
   "execution_count": 10,
   "id": "aefd4cae",
   "metadata": {},
   "outputs": [
    {
     "name": "stdout",
     "output_type": "stream",
     "text": [
      "maps.google.com now redirects to google.com/maps\n",
      "https://garrit.xyz/posts/2022-11-24-smart-move-google\n"
     ]
    }
   ],
   "source": [
    "print(articles_text[largest_index])\n",
    "print(articles_links[largest_index])"
   ]
  }
 ],
 "metadata": {
  "kernelspec": {
   "display_name": "Python 3 (ipykernel)",
   "language": "python",
   "name": "python3"
  },
  "language_info": {
   "codemirror_mode": {
    "name": "ipython",
    "version": 3
   },
   "file_extension": ".py",
   "mimetype": "text/x-python",
   "name": "python",
   "nbconvert_exporter": "python",
   "pygments_lexer": "ipython3",
   "version": "3.10.6"
  }
 },
 "nbformat": 4,
 "nbformat_minor": 5
}
